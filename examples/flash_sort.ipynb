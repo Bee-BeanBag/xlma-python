{
 "cells": [
  {
   "cell_type": "code",
   "execution_count": 1,
   "metadata": {},
   "outputs": [],
   "source": [
    "import glob\n",
    "import numpy as np\n",
    "import datetime\n",
    "\n",
    "from pyxlma.lmalib.io import read\n",
    "from pyxlma.plot.xlma import XlmaPlot\n",
    "\n",
    "from pyxlma.lmalib.flash.cluster import cluster_flashes\n",
    "\n",
    "%matplotlib inline"
   ]
  },
  {
   "cell_type": "code",
   "execution_count": 2,
   "metadata": {},
   "outputs": [
    {
     "name": "stdout",
     "output_type": "stream",
     "text": [
      "2020-04-02 23:00:00\n"
     ]
    }
   ],
   "source": [
    "files_grabbed = sorted(glob.glob('../test/vanna/kinda/L*'))\n",
    "lma_data, starttime = read.dataset(files_grabbed)\n",
    "print(starttime)\n",
    "\n",
    "\n",
    "lf = read.lmafile(files_grabbed[0])\n",
    "# Station info comes from the last file read.\n",
    "# stations = lma_file.stations\n",
    "\n",
    "# Will need to add logic to check for existing data and do something else if it is\n",
    "# if len(lma_data) > 0:\n",
    "#     lma_data.sort_values('Datetime', inplace=True)\n",
    "    \n",
    "dttuple = [starttime, starttime+datetime.timedelta(minutes=10)]\n",
    "# dttuple = lma_data.Datetime.min(), lma_data.Datetime.max()\n",
    "tstring = 'Oklahoma LMA {}-{}'.format(dttuple[0].strftime('%H%M'),\n",
    "                                      dttuple[1].strftime('%H%M UTC %d %B %Y '))"
   ]
  },
  {
   "cell_type": "code",
   "execution_count": 3,
   "metadata": {},
   "outputs": [],
   "source": [
    "ds = cluster_flashes(lma_data)"
   ]
  },
  {
   "cell_type": "code",
   "execution_count": null,
   "metadata": {},
   "outputs": [],
   "source": []
  }
 ],
 "metadata": {
  "kernelspec": {
   "display_name": "Python 3",
   "language": "python",
   "name": "python3"
  },
  "language_info": {
   "codemirror_mode": {
    "name": "ipython",
    "version": 3
   },
   "file_extension": ".py",
   "mimetype": "text/x-python",
   "name": "python",
   "nbconvert_exporter": "python",
   "pygments_lexer": "ipython3",
   "version": "3.6.7"
  }
 },
 "nbformat": 4,
 "nbformat_minor": 4
}
